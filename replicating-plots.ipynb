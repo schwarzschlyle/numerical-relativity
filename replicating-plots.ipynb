{
 "cells": [
  {
   "cell_type": "markdown",
   "id": "2a35fc6f",
   "metadata": {},
   "source": [
    "# Critical Collapse"
   ]
  },
  {
   "cell_type": "markdown",
   "id": "9594432c",
   "metadata": {},
   "source": [
    "## Initial Data"
   ]
  },
  {
   "cell_type": "code",
   "execution_count": null,
   "id": "ac0142a9",
   "metadata": {},
   "outputs": [],
   "source": []
  },
  {
   "cell_type": "markdown",
   "id": "00fab0e0",
   "metadata": {},
   "source": [
    "## Leapfrog Evolution"
   ]
  },
  {
   "cell_type": "code",
   "execution_count": null,
   "id": "f6ab658e",
   "metadata": {},
   "outputs": [],
   "source": []
  }
 ],
 "metadata": {
  "kernelspec": {
   "display_name": "Python 3 (ipykernel)",
   "language": "python",
   "name": "python3"
  },
  "language_info": {
   "codemirror_mode": {
    "name": "ipython",
    "version": 3
   },
   "file_extension": ".py",
   "mimetype": "text/x-python",
   "name": "python",
   "nbconvert_exporter": "python",
   "pygments_lexer": "ipython3",
   "version": "3.9.12"
  }
 },
 "nbformat": 4,
 "nbformat_minor": 5
}
