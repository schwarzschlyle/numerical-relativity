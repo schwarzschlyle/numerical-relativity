{
 "cells": [
  {
   "cell_type": "code",
   "execution_count": null,
   "id": "3c92ed07-d626-42d9-a569-724a5d7fcacf",
   "metadata": {},
   "outputs": [],
   "source": [
    "\"\"\"Backend supported: tensorflow.compat.v1, tensorflow, pytorch, paddle\"\"\"\n",
    "import deepxde as dde\n",
    "import numpy as np\n",
    "\n",
    "\n",
    "def pde(r, y):\n",
    "    dy_r = dde.grad.jacobian(y, r)\n",
    "    r2dy_r = (r**2)*dy_r\n",
    "    dr2dy_r_r = dde.grad.jacobian(r2dy_r, r)\n",
    "    return (r**(-2)) * dr2dy_r_r\n",
    "\n",
    "\n",
    "\n",
    "def boundary_l(r, on_boundary):\n",
    "    return on_boundary and np.isclose(r[0], -1)\n",
    "\n",
    "def boundary_r(r, on_boundary):\n",
    "    return on_boundary and np.isclose(r[0], 1)\n",
    "\n",
    "\n",
    "def func(r):\n",
    "    return (1 + (1/(r)))\n",
    "\n",
    "\n",
    "geom = dde.geometry.Interval(-1, 1)\n",
    "\n",
    "\n",
    "bc_l = dde.icbc.DirichletBC(geom, func, boundary_l)\n",
    "bc_r = dde.icbc.DirichletBC(geom, func, boundary_r)\n",
    "\n",
    "\n",
    "\n",
    "#bc_l = dde.icbc.RobinBC(geom, lambda X, y: 1, boundary_l)\n",
    "#bc_r = dde.icbc.RobinBC(geom, lambda X, y: 1, boundary_r)\n",
    "\n",
    "\n",
    "data = dde.data.PDE(geom, pde, [bc_r], 50, 100, solution=func, num_test=200,\n",
    "                   train_distribution=\"uniform\")\n",
    "\n",
    "\n",
    "\n",
    "layer_size = [1] + [20] * 3 + [1]\n",
    "activation = \"tanh\"\n",
    "initializer = \"Glorot uniform\"\n",
    "net = dde.nn.FNN(layer_size, activation, initializer)\n",
    "\n",
    "\n",
    "\n",
    "model = dde.Model(data, net)\n",
    "model.compile(\"adam\", lr=0.001, metrics=[\"l2 relative error\"])\n",
    "losshistory, train_state = model.train(iterations=10000)\n",
    "\n",
    "dde.saveplot(losshistory, train_state, isplot=True)"
   ]
  },
  {
   "cell_type": "code",
   "execution_count": null,
   "id": "a8cb48b7-8ee3-4f53-a9a2-cfb61809c416",
   "metadata": {},
   "outputs": [],
   "source": []
  }
 ],
 "metadata": {
  "kernelspec": {
   "display_name": "Python 3 (ipykernel)",
   "language": "python",
   "name": "python3"
  },
  "language_info": {
   "codemirror_mode": {
    "name": "ipython",
    "version": 3
   },
   "file_extension": ".py",
   "mimetype": "text/x-python",
   "name": "python",
   "nbconvert_exporter": "python",
   "pygments_lexer": "ipython3",
   "version": "3.9.12"
  }
 },
 "nbformat": 4,
 "nbformat_minor": 5
}
